{
 "cells": [
  {
   "cell_type": "code",
   "execution_count": 12,
   "id": "fe32efd2",
   "metadata": {},
   "outputs": [],
   "source": [
    "def bubble_sort(array):\n",
    "    length = len(array)\n",
    "\n",
    "    i = 0\n",
    "    swap, comp = 0, 0\n",
    "    swapped = True\n",
    "    \n",
    "    while i < length and swapped:\n",
    "        j = 0\n",
    "        swapped = False\n",
    "        while j < length - i - 1:\n",
    "            if array[j] > array[j + 1]:\n",
    "                array[j], array[j + 1] = array[j + 1], array[j]\n",
    "                swap += 1\n",
    "                swapped = True\n",
    "            comp += 1\n",
    "            j += 1\n",
    "        i += 1\n",
    "\n",
    "    return array, comp, swap"
   ]
  },
  {
   "cell_type": "code",
   "execution_count": 13,
   "id": "526488c6",
   "metadata": {},
   "outputs": [
    {
     "name": "stdout",
     "output_type": "stream",
     "text": [
      "Case: Best\n",
      "Comperison happed: 8 times.\n",
      "Swapping happed: 0 times.\n",
      "\n",
      "Case: Worst\n",
      "Comperison happed: 36 times.\n",
      "Swapping happed: 36 times.\n"
     ]
    }
   ],
   "source": [
    "best_case_input, worst_case_input = (\n",
    "    [1, 2, 3, 4, 5, 6, 7, 8, 9],\n",
    "    [9, 8, 7, 6, 5, 4, 3, 2, 1],\n",
    ")\n",
    "\n",
    "sorted_array, comp, swap = bubble_sort(best_case_input)\n",
    "print(\"Case: Best\")\n",
    "print(f\"Comperison happed: {comp} times.\")\n",
    "print(f\"Swapping happed: {swap} times.\")\n",
    "print()\n",
    "\n",
    "print(\"Case: Worst\")\n",
    "sorted_array, comp, swap = bubble_sort(worst_case_input)\n",
    "print(f\"Comperison happed: {comp} times.\")\n",
    "print(f\"Swapping happed: {swap} times.\")"
   ]
  },
  {
   "cell_type": "code",
   "execution_count": null,
   "id": "3ec11f89",
   "metadata": {},
   "outputs": [
    {
     "ename": "KeyboardInterrupt",
     "evalue": "",
     "output_type": "error",
     "traceback": [
      "\u001b[1;31m---------------------------------------------------------------------------\u001b[0m",
      "\u001b[1;31mKeyboardInterrupt\u001b[0m                         Traceback (most recent call last)",
      "Cell \u001b[1;32mIn[14], line 15\u001b[0m\n\u001b[0;32m     12\u001b[0m         i\u001b[38;5;241m+\u001b[39m\u001b[38;5;241m=\u001b[39m\u001b[38;5;241m1\u001b[39m\n\u001b[0;32m     13\u001b[0m     \u001b[38;5;28mprint\u001b[39m(array)\n\u001b[1;32m---> 15\u001b[0m selection_sort(worst_case_input)\n",
      "Cell \u001b[1;32mIn[14], line 7\u001b[0m, in \u001b[0;36mselection_sort\u001b[1;34m(array)\u001b[0m\n\u001b[0;32m      5\u001b[0m minimium \u001b[38;5;241m=\u001b[39m i\n\u001b[0;32m      6\u001b[0m j \u001b[38;5;241m=\u001b[39m i\u001b[38;5;241m+\u001b[39m\u001b[38;5;241m1\u001b[39m\n\u001b[1;32m----> 7\u001b[0m \u001b[38;5;28;01mwhile\u001b[39;00m j\u001b[38;5;241m<\u001b[39mlength:\n\u001b[0;32m      8\u001b[0m     \u001b[38;5;28;01mif\u001b[39;00m array[minimium] \u001b[38;5;241m>\u001b[39m array[j]:\n\u001b[0;32m      9\u001b[0m         minimium \u001b[38;5;241m=\u001b[39m j\n",
      "\u001b[1;31mKeyboardInterrupt\u001b[0m: "
     ]
    }
   ],
   "source": [
    "def selection_sort(array):\n",
    "    length = len(array)\n",
    "    i = 0\n",
    "    while i < length:\n",
    "        minimium = i\n",
    "        j = i+1\n",
    "        while j<length:\n",
    "            if array[minimium] > array[j]:\n",
    "                minimium = j\n",
    "            j+=1\n",
    "        array[i], array[minimium] = array[minimium], array[j]\n",
    "        i+=1\n",
    "    print(array)\n",
    "\n",
    "selection_sort(worst_case_input)\n",
    "        "
   ]
  }
 ],
 "metadata": {
  "kernelspec": {
   "display_name": "base",
   "language": "python",
   "name": "python3"
  },
  "language_info": {
   "codemirror_mode": {
    "name": "ipython",
    "version": 3
   },
   "file_extension": ".py",
   "mimetype": "text/x-python",
   "name": "python",
   "nbconvert_exporter": "python",
   "pygments_lexer": "ipython3",
   "version": "3.12.4"
  }
 },
 "nbformat": 4,
 "nbformat_minor": 5
}
